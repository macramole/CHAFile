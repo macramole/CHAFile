{
 "cells": [
  {
   "cell_type": "code",
   "execution_count": 18,
   "id": "c18bc906-71a4-4510-8986-914a2164131a",
   "metadata": {},
   "outputs": [],
   "source": [
    "import json\n",
    "import csv"
   ]
  },
  {
   "cell_type": "code",
   "execution_count": 23,
   "id": "9b285a66-e64f-4ae8-9323-8e93b5e4925d",
   "metadata": {},
   "outputs": [
    {
     "name": "stdout",
     "output_type": "stream",
     "text": [
      "{\"número_de_linea\": 987, \"número_de_emisión\": 288, \"hablante\": \"FA1\", \"emisión\": \"<there\"s@s:tlc a@s:tlc train@s:tlc>[=! canta] .\", \"bullet\": [3748229, 3749483], \"mor\": [], \"gra\": \"1|0|ROOT 2|1|JCT 3|2|POBJ 4|1|PUNCT\", \"xds\": \"T\", \"destinatario\": \"CHI\", \"path\": \"/home/macramole/Code/ciipme/aclew/highvolResults/listos_cha/oliviaa-a1-nsm.elan.cha\"}\n",
      "\n",
      "{\"número_de_linea\": 1003, \"número_de_emisión\": 292, \"hablante\": \"FA1\", \"emisión\": \"<there\"s@s:tlc a@s:tlc train@s:tlc> [=! canta] .\", \"bullet\": [3753152, 3754771], \"mor\": [], \"gra\": \"1|0|ROOT 2|1|JCT 3|2|POBJ 4|1|PUNCT\", \"xds\": \"T\", \"destinatario\": \"CHI\", \"path\": \"/home/macramole/Code/ciipme/aclew/highvolResults/listos_cha/oliviaa-a1-nsm.elan.cha\"}\n",
      "\n",
      "{\"número_de_linea\": 1015, \"número_de_emisión\": 295, \"hablante\": \"FA1\", \"emisión\": \"<there\"s@s:tlc a@s:tlc plain@s:tlc> [=! canta] .\", \"bullet\": [3758144, 3760102], \"mor\": [], \"gra\": \"1|0|ROOT 2|1|JCT 3|2|POBJ 4|1|PUNCT\", \"xds\": \"T\", \"destinatario\": \"CHI\", \"path\": \"/home/macramole/Code/ciipme/aclew/highvolResults/listos_cha/oliviaa-a1-nsm.elan.cha\"}\n",
      "\n"
     ]
    }
   ],
   "source": [
    "result = [[\"hablante\", \"destinatario\", \"emisión\", \"linea\", \"path\"]]\n",
    "\n",
    "with open(\"./result.txt\", \"r\") as f:\n",
    "# with open(\"./result.eng.txt\", \"r\") as f:\n",
    "    while True:\n",
    "        line = f.readline()\n",
    "        \n",
    "        if not line:\n",
    "            break\n",
    "        \n",
    "        try:\n",
    "            line = line.replace(\"'\",\"\\\"\")\n",
    "            line = json.loads(line)\n",
    "\n",
    "            # print(line[\"hablante\"])\n",
    "\n",
    "            row = [ line[\"hablante\"], \n",
    "                    line[\"destinatario\"], \n",
    "                    line[\"emisión\"],\n",
    "                    line[\"número_de_linea\"],\n",
    "                    line[\"path\"]]\n",
    "            result.append(row)\n",
    "        except:\n",
    "            print(line)\n",
    "        "
   ]
  },
  {
   "cell_type": "code",
   "execution_count": 17,
   "id": "ff4eef15-c5f6-42cc-9813-93599b108269",
   "metadata": {},
   "outputs": [],
   "source": [
    "# with open('testUttVacias.eng.csv', 'w', newline='') as csvfile:\n",
    "with open('testUttVacias.csv', 'w', newline='') as csvfile:\n",
    "    spamwriter = csv.writer(csvfile)\n",
    "    spamwriter.writerows(result)"
   ]
  },
  {
   "cell_type": "markdown",
   "id": "5803590d-17a2-41a2-a64d-b015898498b1",
   "metadata": {},
   "source": [
    "## Me fijo los diferentes &="
   ]
  },
  {
   "cell_type": "code",
   "execution_count": 24,
   "id": "3831c3bf-7e34-40ae-8984-7c76bad3f5a6",
   "metadata": {},
   "outputs": [
    {
     "data": {
      "text/plain": [
       "{'&=besa .': 111,\n",
       " '&=ríe .': 449,\n",
       " '&=balbucea .': 3194,\n",
       " '&=llora .': 317,\n",
       " '&=estornuda .': 15,\n",
       " '&=susurra .': 4,\n",
       " '&=grita .': 187,\n",
       " '&=corre .': 1,\n",
       " '&=tararea .': 102,\n",
       " '&=tose .': 96,\n",
       " '&=grita !': 28,\n",
       " '&=balbucea  .': 3,\n",
       " '&=balbucea !': 3,\n",
       " '&=canta .': 79,\n",
       " '&=canta !': 1,\n",
       " '&=silba .': 21,\n",
       " '&=llora': 2,\n",
       " '&=lloriquea .': 215,\n",
       " '&=imita .': 26,\n",
       " '&=blabucea .': 1,\n",
       " '&=aplaude .': 7,\n",
       " '&=suspira .': 7,\n",
       " '&=chista .': 1,\n",
       " '&=silva .': 6,\n",
       " '&=balbuca .': 1,\n",
       " '&=gruñe .': 7,\n",
       " '&=grita': 1,\n",
       " '&=llora (.) &amá (.) &=balbucea .': 1,\n",
       " '&=balbucea ?': 1,\n",
       " '&=canturrea .': 6,\n",
       " '&=llora  .': 1,\n",
       " '&=camina .': 17,\n",
       " '&=pedo .': 1,\n",
       " '&=tropieza .': 1,\n",
       " '&=queja .': 3,\n",
       " '&=ruido .': 2,\n",
       " '&=llora !': 1,\n",
       " '&=respira .': 1,\n",
       " '&=rie .': 2,\n",
       " '&=bañbucea .': 1,\n",
       " '&=llorisquea .': 57,\n",
       " '&=balbuedea .': 1,\n",
       " '&=resopla .': 1,\n",
       " '&=llorisquea !': 1,\n",
       " '&=carraspea .': 1,\n",
       " '&=ruidos .': 3,\n",
       " '&=chasquea .': 1,\n",
       " '&=sopla .': 3,\n",
       " '&=afirma .': 1,\n",
       " '&=lloriqueo .': 1,\n",
       " '&=zapatea .': 5,\n",
       " '&=tarerea .': 1}"
      ]
     },
     "execution_count": 24,
     "metadata": {},
     "output_type": "execute_result"
    }
   ],
   "source": [
    "verbs = {}\n",
    "\n",
    "for row in result:\n",
    "    utt = row[2]\n",
    "    if utt[:2] == \"&=\":\n",
    "        if utt not in verbs:\n",
    "            verbs[utt] = 1\n",
    "        else :\n",
    "            verbs[utt] += 1\n",
    "\n",
    "verbs"
   ]
  },
  {
   "cell_type": "code",
   "execution_count": null,
   "id": "f2b43c84-b646-4286-aa62-9c91023f4c22",
   "metadata": {},
   "outputs": [],
   "source": []
  }
 ],
 "metadata": {
  "kernelspec": {
   "display_name": "Python 3 (ipykernel)",
   "language": "python",
   "name": "python3"
  },
  "language_info": {
   "codemirror_mode": {
    "name": "ipython",
    "version": 3
   },
   "file_extension": ".py",
   "mimetype": "text/x-python",
   "name": "python",
   "nbconvert_exporter": "python",
   "pygments_lexer": "ipython3",
   "version": "3.9.7"
  }
 },
 "nbformat": 4,
 "nbformat_minor": 5
}
