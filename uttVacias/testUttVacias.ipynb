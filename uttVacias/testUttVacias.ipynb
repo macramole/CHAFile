{
 "cells": [
  {
   "cell_type": "code",
   "execution_count": 10,
   "id": "c18bc906-71a4-4510-8986-914a2164131a",
   "metadata": {},
   "outputs": [],
   "source": [
    "import json\n",
    "import csv"
   ]
  },
  {
   "cell_type": "code",
   "execution_count": 19,
   "id": "2774ab4c-2045-4ce0-af64-9fda3d0692f1",
   "metadata": {},
   "outputs": [],
   "source": [
    "result = [[\"hablante\", \"destinatario\", \"emisión\"]]"
   ]
  },
  {
   "cell_type": "code",
   "execution_count": 20,
   "id": "9b285a66-e64f-4ae8-9323-8e93b5e4925d",
   "metadata": {},
   "outputs": [
    {
     "name": "stdout",
     "output_type": "stream",
     "text": [
      "error\n",
      "error\n",
      "error\n"
     ]
    }
   ],
   "source": [
    "with open(\"./result.txt\", \"r\") as f:\n",
    "    while True:\n",
    "        line = f.readline()\n",
    "        \n",
    "        if not line:\n",
    "            break\n",
    "        \n",
    "        try:\n",
    "            line = line.replace(\"'\",\"\\\"\")\n",
    "            line = json.loads(line)\n",
    "\n",
    "            # print(line[\"hablante\"])\n",
    "\n",
    "            row = [ line[\"hablante\"], line[\"destinatario\"], line[\"emisión\"] ]\n",
    "            result.append(row)\n",
    "        except:\n",
    "            print(\"error\")\n",
    "        "
   ]
  },
  {
   "cell_type": "code",
   "execution_count": 22,
   "id": "7fe17b97-82f4-43fb-92c6-d9702a349f58",
   "metadata": {},
   "outputs": [
    {
     "ename": "TypeError",
     "evalue": " expected at least 1 argument, got 0",
     "output_type": "error",
     "traceback": [
      "\u001b[0;31m---------------------------------------------------------------------------\u001b[0m",
      "\u001b[0;31mTypeError\u001b[0m                                 Traceback (most recent call last)",
      "\u001b[0;32m/tmp/ipykernel_481479/2222130270.py\u001b[0m in \u001b[0;36m<module>\u001b[0;34m\u001b[0m\n\u001b[0;32m----> 1\u001b[0;31m \u001b[0mcsv\u001b[0m\u001b[0;34m.\u001b[0m\u001b[0mwriter\u001b[0m\u001b[0;34m(\u001b[0m\u001b[0;34m)\u001b[0m\u001b[0;34m\u001b[0m\u001b[0;34m\u001b[0m\u001b[0m\n\u001b[0m",
      "\u001b[0;31mTypeError\u001b[0m:  expected at least 1 argument, got 0"
     ]
    }
   ],
   "source": [
    "csv.writer()"
   ]
  },
  {
   "cell_type": "code",
   "execution_count": 23,
   "id": "ff4eef15-c5f6-42cc-9813-93599b108269",
   "metadata": {},
   "outputs": [],
   "source": [
    "with open('testUttVacias.csv', 'w', newline='') as csvfile:\n",
    "    spamwriter = csv.writer(csvfile)\n",
    "    spamwriter.writerows(result)"
   ]
  },
  {
   "cell_type": "code",
   "execution_count": null,
   "id": "102f5f32-c3e9-4267-9df6-601a0079e756",
   "metadata": {},
   "outputs": [],
   "source": []
  }
 ],
 "metadata": {
  "kernelspec": {
   "display_name": "Python 3 (ipykernel)",
   "language": "python",
   "name": "python3"
  },
  "language_info": {
   "codemirror_mode": {
    "name": "ipython",
    "version": 3
   },
   "file_extension": ".py",
   "mimetype": "text/x-python",
   "name": "python",
   "nbconvert_exporter": "python",
   "pygments_lexer": "ipython3",
   "version": "3.9.7"
  }
 },
 "nbformat": 4,
 "nbformat_minor": 5
}
